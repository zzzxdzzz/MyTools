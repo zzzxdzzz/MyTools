{
 "cells": [
  {
   "cell_type": "code",
   "execution_count": null,
   "id": "b58ddc7f-5d59-404f-b520-45e3a25347b5",
   "metadata": {},
   "outputs": [],
   "source": [
    "# 本地（需要 Python 3.10+，scikit-learn, pandas, numpy）\n",
    "python synthetic_demo.py   # 先用合成数据跑通流程\n",
    "python run_baseline.py     # 替换成真实列名后跑CV与诊断\n"
   ]
  }
 ],
 "metadata": {
  "kernelspec": {
   "display_name": "Python 3 (ipykernel)",
   "language": "python",
   "name": "python3"
  },
  "language_info": {
   "codemirror_mode": {
    "name": "ipython",
    "version": 3
   },
   "file_extension": ".py",
   "mimetype": "text/x-python",
   "name": "python",
   "nbconvert_exporter": "python",
   "pygments_lexer": "ipython3",
   "version": "3.12.2"
  }
 },
 "nbformat": 4,
 "nbformat_minor": 5
}
