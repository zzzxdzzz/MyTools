{
 "cells": [
  {
   "cell_type": "code",
   "execution_count": 1,
   "metadata": {},
   "outputs": [],
   "source": [
    "import pds4_tools\n"
   ]
  },
  {
   "cell_type": "code",
   "execution_count": 2,
   "metadata": {},
   "outputs": [
    {
     "name": "stdout",
     "output_type": "stream",
     "text": [
      "Processing label: /Users/zouxd/Documents/2-Projects/2018-PDART18/hayabusa2ONC/hyb2_onc_20180703_061508_tvf_l2dbpc.xml\n",
      "Now processing a Header structure: FITS header of primary HDU for ONC backplane data\n",
      "Now processing a Header structure: FITS header of secondary HDU for ONC backplane data\n",
      "Now processing a Array_2D structure: LongitudeData\n",
      "Now processing a Array_2D structure: LatitudeData\n",
      "Now processing a Array_2D structure: IncidentAngleData\n",
      "Now processing a Array_2D structure: EmissionAngleData\n",
      "Now processing a Array_2D structure: PhaseAngleData\n",
      "Now processing a Array_2D structure: PlateIDData\n",
      "Now processing a Array_2D structure: DistanceData\n"
     ]
    }
   ],
   "source": [
    "#structures = pds4_tools.read('https://sbnarchive.psi.edu/pds4/near/nearmsi.shapebackplane/data/2001/002/m0153871795f1_2p_cif_dbl_bp.xml')\n",
    "\n",
    "structures = pds4_tools.read('/Users/zouxd/Documents/2-Projects/2018-PDART18/hayabusa2ONC/hyb2_onc_20180703_061508_tvf_l2dbpc.xml')\n"
   ]
  },
  {
   "cell_type": "code",
   "execution_count": 5,
   "metadata": {},
   "outputs": [],
   "source": [
    "a = structures[0]                   # First Structure\n",
    "b = structures[0:2]                 # First two Structures\n",
    "#c = structures['emission']       # Structure with LID or name of 'Integration'\n"
   ]
  },
  {
   "cell_type": "code",
   "execution_count": 6,
   "metadata": {},
   "outputs": [],
   "source": [
    "lids = structures.label.findall('.//local_identifier')"
   ]
  },
  {
   "cell_type": "code",
   "execution_count": 10,
   "metadata": {},
   "outputs": [
    {
     "data": {
      "text/plain": [
       "'data'"
      ]
     },
     "execution_count": 10,
     "metadata": {},
     "output_type": "execute_result"
    }
   ],
   "source": [
    "lids = structures.label.findall('.//local_identifier')\n",
    "lids[0].text"
   ]
  },
  {
   "cell_type": "code",
   "execution_count": 12,
   "metadata": {},
   "outputs": [
    {
     "data": {
      "text/plain": [
       "'TABLE_0'"
      ]
     },
     "execution_count": 12,
     "metadata": {},
     "output_type": "execute_result"
    }
   ],
   "source": [
    "id = structures[0].id\n",
    "id"
   ]
  },
  {
   "cell_type": "code",
   "execution_count": 4,
   "metadata": {},
   "outputs": [
    {
     "name": "stdout",
     "output_type": "stream",
     "text": [
      "b\"SIMPLE  =                    T / conforms to FITS standard                      BITPIX  =                    8 / array data type                                NAXIS   =                    0 / number of array dimensions                     EXTEND  =                    T                                                  FMTTYPE = 'HAYABUSA2 IMAGE ONC L2c,d backplane cube' / type of format in FITS fiFTYPEVER= '20210921'           / version of FMTTYPE definition                  CNTTYPE = 'lon, lat, i, e, g, polyid, range' / type of data content             CNTVER  = '20210921'           / version of data content                        ORIGIN  = 'ISAS/JAXA'          / organization responsible for the data          DATE    = '2021-10-07T03:48:48' / date of generation of this HDU in UTC         TELESCOP= 'HAYABUSA2'          / telescope used to acquire data                 SPCECRFT= 'HAYABUSA2'          / name of spacecraft                             NEXTEND =                    1 / number of standard extensions                  FILENAME= 'hyb2_onc_20180703_061508_tvf_l2d.fit' / original filename            IMGMOD  = 'SCIENCE '           / image type: SCIENCE/NAVDUMP                    END                                                                                                                                                                                                                                                                                                                                                                                                                                                                                                                                                                                                                                                                                                                                                                                                                                                                                                                                                                                                                                                                                                                                                                                                                                                                                                                                                                                                                                                                                                                                                                                                                                                                                                                                             \"\n"
     ]
    }
   ],
   "source": [
    "print(structures[0].data)"
   ]
  },
  {
   "cell_type": "code",
   "execution_count": 5,
   "metadata": {},
   "outputs": [
    {
     "data": {
      "text/plain": [
       "PDS_ndarray([[-1., -1., -1., ..., -1., -1., -1.],\n",
       "             [-1., -1., -1., ..., -1., -1., -1.],\n",
       "             [-1., -1., -1., ..., -1., -1., -1.],\n",
       "             ...,\n",
       "             [-1., -1., -1., ..., -1., -1., -1.],\n",
       "             [-1., -1., -1., ..., -1., -1., -1.],\n",
       "             [-1., -1., -1., ..., -1., -1., -1.]], dtype='>f4')"
      ]
     },
     "execution_count": 5,
     "metadata": {},
     "output_type": "execute_result"
    }
   ],
   "source": [
    "ycoord = structures['LongitudeData'].data\n",
    "ycoord\n"
   ]
  },
  {
   "cell_type": "code",
   "execution_count": 6,
   "metadata": {},
   "outputs": [
    {
     "name": "stdout",
     "output_type": "stream",
     "text": [
      "Warning: Unable to read cache file: [Errno 2] No such file or directory: '/Users/zouxd/Library/Application Support/pds4_viewer/cache_file'\n",
      "Processing label: /Users/zouxd/Documents/2-Projects/2018-PDART18/hayabusa2ONC/hyb2_onc_20180703_061508_tvf_l2dbpc.xml\n",
      "Found a Header structure: FITS header of primary HDU for ONC backplane data\n",
      "Found a Header structure: FITS header of secondary HDU for ONC backplane data\n",
      "Found a Array_2D structure: LongitudeData\n",
      "Found a Array_2D structure: LatitudeData\n",
      "Found a Array_2D structure: IncidentAngleData\n",
      "Found a Array_2D structure: EmissionAngleData\n",
      "Found a Array_2D structure: PhaseAngleData\n",
      "Found a Array_2D structure: PlateIDData\n",
      "Found a Array_2D structure: DistanceData\n"
     ]
    }
   ],
   "source": [
    "pds4_tools.view('/Users/zouxd/Documents/2-Projects/2018-PDART18/hayabusa2ONC/hyb2_onc_20180703_061508_tvf_l2dbpc.xml')"
   ]
  },
  {
   "cell_type": "code",
   "execution_count": 26,
   "metadata": {},
   "outputs": [],
   "source": [
    "from lxml import etree\n"
   ]
  },
  {
   "cell_type": "code",
   "execution_count": 27,
   "metadata": {},
   "outputs": [],
   "source": [
    "from lxml import etree\n",
    "from lxml.isoschematron import Schematron\n",
    "\n",
    "schematron = Schematron(etree.XML('''\n",
    "    <schema xmlns=\"http://purl.oclc.org/dsdl/schematron\" >\n",
    "      <pattern id=\"id_only_attribute\">\n",
    "        <title>id is the only permitted attribute name</title>\n",
    "        <rule context=\"*\">\n",
    "          <report test=\"@*[not(name()='id')]\">Attribute\n",
    "            <name path=\"@*[not(name()='id')]\"/> is forbidden<name/>\n",
    "          </report>\n",
    "        </rule>\n",
    "      </pattern>\n",
    "    </schema>'''),\n",
    "    error_finder=Schematron.ASSERTS_AND_REPORTS)"
   ]
  },
  {
   "cell_type": "code",
   "execution_count": 28,
   "metadata": {},
   "outputs": [
    {
     "name": "stdout",
     "output_type": "stream",
     "text": [
      "Help on Schematron in module lxml.isoschematron object:\n",
      "\n",
      "class Schematron(lxml.etree._Validator)\n",
      " |  Schematron(etree=None, file=None, include=True, expand=True, include_params={}, expand_params={}, compile_params={}, store_schematron=False, store_xslt=False, store_report=False, phase=None, error_finder=//svrl:failed-assert)\n",
      " |  \n",
      " |  An ISO Schematron validator.\n",
      " |  \n",
      " |  Pass a root Element or an ElementTree to turn it into a validator.\n",
      " |  Alternatively, pass a filename as keyword argument 'file' to parse from\n",
      " |  the file system.\n",
      " |  \n",
      " |  Schematron is a less well known, but very powerful schema language.\n",
      " |  The main idea is to use the capabilities of XPath to put restrictions on\n",
      " |  the structure and the content of XML documents.\n",
      " |  \n",
      " |  The standard behaviour is to fail on ``failed-assert`` findings only\n",
      " |  (``ASSERTS_ONLY``).  To change this, you can either pass a report filter\n",
      " |  function to the ``error_finder`` parameter (e.g. ``ASSERTS_AND_REPORTS``\n",
      " |  or a custom ``XPath`` object), or subclass isoschematron.Schematron for\n",
      " |  complete control of the validation process.\n",
      " |  \n",
      " |  Built on the Schematron language 'reference' skeleton pure-xslt\n",
      " |  implementation, the validator is created as an XSLT 1.0 stylesheet using\n",
      " |  these steps:\n",
      " |  \n",
      " |   0) (Extract from XML Schema or RelaxNG schema)\n",
      " |   1) Process inclusions\n",
      " |   2) Process abstract patterns\n",
      " |   3) Compile the schematron schema to XSLT\n",
      " |  \n",
      " |  The ``include`` and ``expand`` keyword arguments can be used to switch off\n",
      " |  steps 1) and 2).\n",
      " |  To set parameters for steps 1), 2) and 3) hand parameter dictionaries to the\n",
      " |  keyword arguments ``include_params``, ``expand_params`` or\n",
      " |  ``compile_params``.\n",
      " |  For convenience, the compile-step parameter ``phase`` is also exposed as a\n",
      " |  keyword argument ``phase``. This takes precedence if the parameter is also\n",
      " |  given in the parameter dictionary.\n",
      " |  \n",
      " |  If ``store_schematron`` is set to True, the (included-and-expanded)\n",
      " |  schematron document tree is stored and available through the ``schematron``\n",
      " |  property.\n",
      " |  If ``store_xslt`` is set to True, the validation XSLT document tree will be\n",
      " |  stored and can be retrieved through the ``validator_xslt`` property.\n",
      " |  With ``store_report`` set to True (default: False), the resulting validation\n",
      " |  report document gets stored and can be accessed as the ``validation_report``\n",
      " |  property.\n",
      " |  \n",
      " |  Here is a usage example::\n",
      " |  \n",
      " |    >>> from lxml import etree\n",
      " |    >>> from lxml.isoschematron import Schematron\n",
      " |  \n",
      " |    >>> schematron = Schematron(etree.XML('''\n",
      " |    ... <schema xmlns=\"http://purl.oclc.org/dsdl/schematron\" >\n",
      " |    ...   <pattern id=\"id_only_attribute\">\n",
      " |    ...     <title>id is the only permitted attribute name</title>\n",
      " |    ...     <rule context=\"*\">\n",
      " |    ...       <report test=\"@*[not(name()='id')]\">Attribute\n",
      " |    ...         <name path=\"@*[not(name()='id')]\"/> is forbidden<name/>\n",
      " |    ...       </report>\n",
      " |    ...     </rule>\n",
      " |    ...   </pattern>\n",
      " |    ... </schema>'''),\n",
      " |    ... error_finder=Schematron.ASSERTS_AND_REPORTS)\n",
      " |  \n",
      " |    >>> xml = etree.XML('''\n",
      " |    ... <AAA name=\"aaa\">\n",
      " |    ...   <BBB id=\"bbb\"/>\n",
      " |    ...   <CCC color=\"ccc\"/>\n",
      " |    ... </AAA>\n",
      " |    ... ''')\n",
      " |  \n",
      " |    >>> schematron.validate(xml)\n",
      " |    False\n",
      " |  \n",
      " |    >>> xml = etree.XML('''\n",
      " |    ... <AAA id=\"aaa\">\n",
      " |    ...   <BBB id=\"bbb\"/>\n",
      " |    ...   <CCC/>\n",
      " |    ... </AAA>\n",
      " |    ... ''')\n",
      " |  \n",
      " |    >>> schematron.validate(xml)\n",
      " |    True\n",
      " |  \n",
      " |  Method resolution order:\n",
      " |      Schematron\n",
      " |      lxml.etree._Validator\n",
      " |      builtins.object\n",
      " |  \n",
      " |  Methods defined here:\n",
      " |  \n",
      " |  __call__(self, etree)\n",
      " |      Validate doc using Schematron.\n",
      " |      \n",
      " |      Returns true if document is valid, false if not.\n",
      " |  \n",
      " |  __init__(self, etree=None, file=None, include=True, expand=True, include_params={}, expand_params={}, compile_params={}, store_schematron=False, store_xslt=False, store_report=False, phase=None, error_finder=//svrl:failed-assert)\n",
      " |      Initialize self.  See help(type(self)) for accurate signature.\n",
      " |  \n",
      " |  ----------------------------------------------------------------------\n",
      " |  Data descriptors defined here:\n",
      " |  \n",
      " |  __dict__\n",
      " |      dictionary for instance variables (if defined)\n",
      " |  \n",
      " |  __weakref__\n",
      " |      list of weak references to the object (if defined)\n",
      " |  \n",
      " |  schematron\n",
      " |      ISO-schematron schema document (None if object has been initialized\n",
      " |      with store_schematron=False).\n",
      " |  \n",
      " |  validation_report\n",
      " |      ISO-schematron validation result report (None if result-storing has\n",
      " |      been turned off).\n",
      " |  \n",
      " |  validator_xslt\n",
      " |      ISO-schematron skeleton implementation XSLT validator document (None\n",
      " |      if object has been initialized with store_xslt=False).\n",
      " |  \n",
      " |  ----------------------------------------------------------------------\n",
      " |  Data and other attributes defined here:\n",
      " |  \n",
      " |  ASSERTS_AND_REPORTS = //svrl:failed-assert | //svrl:successful-report\n",
      " |      XPath(self, path, namespaces=None, extensions=None, regexp=True, smart_strings=True)\n",
      " |      A compiled XPath expression that can be called on Elements and ElementTrees.\n",
      " |      \n",
      " |      Besides the XPath expression, you can pass prefix-namespace\n",
      " |      mappings and extension functions to the constructor through the\n",
      " |      keyword arguments ``namespaces`` and ``extensions``.  EXSLT\n",
      " |      regular expression support can be disabled with the 'regexp'\n",
      " |      boolean keyword (defaults to True).  Smart strings will be\n",
      " |      returned for string results unless you pass\n",
      " |      ``smart_strings=False``.\n",
      " |  \n",
      " |  ASSERTS_ONLY = //svrl:failed-assert\n",
      " |      XPath(self, path, namespaces=None, extensions=None, regexp=True, smart_strings=True)\n",
      " |      A compiled XPath expression that can be called on Elements and ElementTrees.\n",
      " |      \n",
      " |      Besides the XPath expression, you can pass prefix-namespace\n",
      " |      mappings and extension functions to the constructor through the\n",
      " |      keyword arguments ``namespaces`` and ``extensions``.  EXSLT\n",
      " |      regular expression support can be disabled with the 'regexp'\n",
      " |      boolean keyword (defaults to True).  Smart strings will be\n",
      " |      returned for string results unless you pass\n",
      " |      ``smart_strings=False``.\n",
      " |  \n",
      " |  ----------------------------------------------------------------------\n",
      " |  Methods inherited from lxml.etree._Validator:\n",
      " |  \n",
      " |  assertValid(self, etree)\n",
      " |      assertValid(self, etree)\n",
      " |      \n",
      " |      Raises `DocumentInvalid` if the document does not comply with the schema.\n",
      " |  \n",
      " |  assert_(self, etree)\n",
      " |      assert_(self, etree)\n",
      " |      \n",
      " |      Raises `AssertionError` if the document does not comply with the schema.\n",
      " |  \n",
      " |  validate(self, etree)\n",
      " |      validate(self, etree)\n",
      " |      \n",
      " |      Validate the document using this schema.\n",
      " |      \n",
      " |      Returns true if document is valid, false if not.\n",
      " |  \n",
      " |  ----------------------------------------------------------------------\n",
      " |  Static methods inherited from lxml.etree._Validator:\n",
      " |  \n",
      " |  __new__(*args, **kwargs) from builtins.type\n",
      " |      Create and return a new object.  See help(type) for accurate signature.\n",
      " |  \n",
      " |  ----------------------------------------------------------------------\n",
      " |  Data descriptors inherited from lxml.etree._Validator:\n",
      " |  \n",
      " |  error_log\n",
      " |      The log of validation errors and warnings.\n",
      " |  \n",
      " |  ----------------------------------------------------------------------\n",
      " |  Data and other attributes inherited from lxml.etree._Validator:\n",
      " |  \n",
      " |  __pyx_vtable__ = <capsule object NULL>\n",
      "\n"
     ]
    }
   ],
   "source": [
    "help(schematron)"
   ]
  },
  {
   "cell_type": "code",
   "execution_count": null,
   "metadata": {},
   "outputs": [],
   "source": []
  }
 ],
 "metadata": {
  "kernelspec": {
   "display_name": "Python 3 (ipykernel)",
   "language": "python",
   "name": "python3"
  },
  "language_info": {
   "codemirror_mode": {
    "name": "ipython",
    "version": 3
   },
   "file_extension": ".py",
   "mimetype": "text/x-python",
   "name": "python",
   "nbconvert_exporter": "python",
   "pygments_lexer": "ipython3",
   "version": "3.9.20"
  }
 },
 "nbformat": 4,
 "nbformat_minor": 4
}
