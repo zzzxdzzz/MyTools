{
 "cells": [
  {
   "cell_type": "code",
   "execution_count": 1,
   "metadata": {},
   "outputs": [],
   "source": [
    "#直接处理从sbib下载的cube文件，更新spice kernels， phocube，检查simulated image\n",
    "\n",
    "#Dealing with Ceres cube files from sbib\n",
    "#Directly generating the backplanes from web setting best spice kernels\n",
    "import pysis\n",
    "from pysis import isis\n",
    "from pysis import CubeFile\n",
    "from PIL import Image\n",
    "import math\n",
    "import matplotlib.pyplot as plt\n",
    "import os\n",
    "from os import path\n",
    "import pysis_ext\n",
    "import matplotlib.pyplot as plt\n"
   ]
  },
  {
   "cell_type": "code",
   "execution_count": 2,
   "metadata": {},
   "outputs": [],
   "source": [
    "#help(pysis_ext.pds2isis)    #(input, output, log=logfile, ...)"
   ]
  },
  {
   "cell_type": "code",
   "execution_count": 3,
   "metadata": {},
   "outputs": [
    {
     "name": "stdout",
     "output_type": "stream",
     "text": [
      "5969 cubes in the given path.\n"
     ]
    }
   ],
   "source": [
    "#input_list and output_list\n",
    "file_path = '/Users/zouxd/21DDAP-Li/02-OccatorCrater/Occator-data/'\n",
    "out_path = '/Users/zouxd/21DDAP-Li/02-OccatorCrater/use-globalDTM/'\n",
    "files = os.listdir(file_path) \n",
    "paths = [os.path.join(file_path,file) for file in files if file.endswith('.cub')]\n",
    "print('%d cubes in the given path.' %(len(paths)))\n",
    "\n",
    "out_paths = [os.path.join(out_path,file) for file in files if file.endswith('.cub')]"
   ]
  },
  {
   "cell_type": "code",
   "execution_count": 7,
   "metadata": {
    "scrolled": false
   },
   "outputs": [
    {
     "name": "stdout",
     "output_type": "stream",
     "text": [
      "/Users/zouxd/21DDAP-Li/02-OccatorCrater/Occator-data/f-FC21B0064946_16131093537F1B.cub\n"
     ]
    },
    {
     "ename": "ProcessError",
     "evalue": "Command '/Users/zouxd/Applications/isis/isis3comets/isis/bin/spiceinit' returned non-zero exit status 1",
     "output_type": "error",
     "traceback": [
      "\u001b[0;31m---------------------------------------------------------------------------\u001b[0m",
      "\u001b[0;31mProcessError\u001b[0m                              Traceback (most recent call last)",
      "\u001b[0;32m<ipython-input-7-3194bebc901a>\u001b[0m in \u001b[0;36m<module>\u001b[0;34m\u001b[0m\n\u001b[1;32m      2\u001b[0m \u001b[0;32mfor\u001b[0m \u001b[0mpath\u001b[0m \u001b[0;32min\u001b[0m \u001b[0mpaths\u001b[0m\u001b[0;34m:\u001b[0m\u001b[0;34m\u001b[0m\u001b[0;34m\u001b[0m\u001b[0m\n\u001b[1;32m      3\u001b[0m     \u001b[0mprint\u001b[0m\u001b[0;34m(\u001b[0m\u001b[0mpath\u001b[0m\u001b[0;34m)\u001b[0m\u001b[0;34m\u001b[0m\u001b[0;34m\u001b[0m\u001b[0m\n\u001b[0;32m----> 4\u001b[0;31m     \u001b[0misis\u001b[0m\u001b[0;34m.\u001b[0m\u001b[0mspiceinit\u001b[0m\u001b[0;34m(\u001b[0m\u001b[0mfrom_\u001b[0m\u001b[0;34m=\u001b[0m\u001b[0mpath\u001b[0m\u001b[0;34m,\u001b[0m \u001b[0mweb\u001b[0m\u001b[0;34m=\u001b[0m\u001b[0;32mTrue\u001b[0m\u001b[0;34m,\u001b[0m \u001b[0mcksmithed\u001b[0m\u001b[0;34m=\u001b[0m\u001b[0;32mTrue\u001b[0m\u001b[0;34m,\u001b[0m \u001b[0mspksmithed\u001b[0m\u001b[0;34m=\u001b[0m\u001b[0;32mTrue\u001b[0m\u001b[0;34m)\u001b[0m\u001b[0;34m\u001b[0m\u001b[0;34m\u001b[0m\u001b[0m\n\u001b[0m\u001b[1;32m      5\u001b[0m \u001b[0;34m\u001b[0m\u001b[0m\n\u001b[1;32m      6\u001b[0m \u001b[0;34m\u001b[0m\u001b[0m\n",
      "\u001b[0;32m/opt/anaconda3/lib/python3.7/site-packages/pysis/isiscommand.py\u001b[0m in \u001b[0;36m__call__\u001b[0;34m(self, **kwargs)\u001b[0m\n\u001b[1;32m     55\u001b[0m \u001b[0;34m\u001b[0m\u001b[0m\n\u001b[1;32m     56\u001b[0m     \u001b[0;32mdef\u001b[0m \u001b[0m__call__\u001b[0m\u001b[0;34m(\u001b[0m\u001b[0mself\u001b[0m\u001b[0;34m,\u001b[0m \u001b[0;34m**\u001b[0m\u001b[0mkwargs\u001b[0m\u001b[0;34m)\u001b[0m\u001b[0;34m:\u001b[0m\u001b[0;34m\u001b[0m\u001b[0;34m\u001b[0m\u001b[0m\n\u001b[0;32m---> 57\u001b[0;31m         \u001b[0;32mreturn\u001b[0m \u001b[0mself\u001b[0m\u001b[0;34m.\u001b[0m\u001b[0mcall\u001b[0m\u001b[0;34m(\u001b[0m\u001b[0;34m**\u001b[0m\u001b[0mkwargs\u001b[0m\u001b[0;34m)\u001b[0m\u001b[0;34m\u001b[0m\u001b[0;34m\u001b[0m\u001b[0m\n\u001b[0m\u001b[1;32m     58\u001b[0m \u001b[0;34m\u001b[0m\u001b[0m\n\u001b[1;32m     59\u001b[0m \u001b[0;34m\u001b[0m\u001b[0m\n",
      "\u001b[0;32m/opt/anaconda3/lib/python3.7/site-packages/pysis/isiscommand.py\u001b[0m in \u001b[0;36mcall\u001b[0;34m(self, **kwargs)\u001b[0m\n\u001b[1;32m     47\u001b[0m         \u001b[0mretcode\u001b[0m \u001b[0;34m=\u001b[0m \u001b[0mprocess\u001b[0m\u001b[0;34m.\u001b[0m\u001b[0mpoll\u001b[0m\u001b[0;34m(\u001b[0m\u001b[0;34m)\u001b[0m\u001b[0;34m\u001b[0m\u001b[0;34m\u001b[0m\u001b[0m\n\u001b[1;32m     48\u001b[0m         \u001b[0;32mif\u001b[0m \u001b[0mretcode\u001b[0m\u001b[0;34m:\u001b[0m\u001b[0;34m\u001b[0m\u001b[0;34m\u001b[0m\u001b[0m\n\u001b[0;32m---> 49\u001b[0;31m             \u001b[0;32mraise\u001b[0m \u001b[0mProcessError\u001b[0m\u001b[0;34m(\u001b[0m\u001b[0mretcode\u001b[0m\u001b[0;34m,\u001b[0m \u001b[0mcmd\u001b[0m\u001b[0;34m,\u001b[0m \u001b[0mstdout\u001b[0m\u001b[0;34m=\u001b[0m\u001b[0moutput\u001b[0m\u001b[0;34m,\u001b[0m \u001b[0mstderr\u001b[0m\u001b[0;34m=\u001b[0m\u001b[0merr\u001b[0m\u001b[0;34m)\u001b[0m\u001b[0;34m\u001b[0m\u001b[0;34m\u001b[0m\u001b[0m\n\u001b[0m\u001b[1;32m     50\u001b[0m \u001b[0;34m\u001b[0m\u001b[0m\n\u001b[1;32m     51\u001b[0m         \u001b[0;32mreturn\u001b[0m \u001b[0moutput\u001b[0m\u001b[0;34m\u001b[0m\u001b[0;34m\u001b[0m\u001b[0m\n",
      "\u001b[0;31mProcessError\u001b[0m: Command '/Users/zouxd/Applications/isis/isis3comets/isis/bin/spiceinit' returned non-zero exit status 1"
     ]
    }
   ],
   "source": [
    "#spiceinit\n",
    "for path in paths:\n",
    "    print(path)\n",
    "    isis.spiceinit(from_=path, web=True, cksmithed=True, spksmithed=True)\n",
    "\n",
    "    \n"
   ]
  },
  {
   "cell_type": "code",
   "execution_count": 4,
   "metadata": {},
   "outputs": [
    {
     "data": {
      "text/plain": [
       "1000"
      ]
     },
     "execution_count": 4,
     "metadata": {},
     "output_type": "execute_result"
    }
   ],
   "source": [
    "fi=files[3000:4000]\n",
    "len(fi)\n",
    "#print(files[5978])"
   ]
  },
  {
   "cell_type": "code",
   "execution_count": 5,
   "metadata": {},
   "outputs": [
    {
     "name": "stdout",
     "output_type": "stream",
     "text": [
      "f-FC21B0082934_16232173744F6F.cub\r"
     ]
    }
   ],
   "source": [
    "#phocube\n",
    "for file in fi:\n",
    "    if file.endswith('.cub'):\n",
    "        print(file, end = \"\\r\")\n",
    "        #phocube from=*.cub to=*.cub dn=yes emission=no incidence=no localemission=yes localincidence=yes pixelresolution=yes\n",
    "        #isis.phocube(from_=os.path.join(file_path,file), to=os.path.join(out_path,file),dn=True, emission=False, incidence=False, localemission=True, localincidence=True, sunilluminationmask=True)\n",
    "        isis.phocube(from_=os.path.join(file_path,file), to=os.path.join(out_path,file), emission=False, incidence=False, localemission=True, localincidence=True,sunilluminationmask=True)\n"
   ]
  },
  {
   "cell_type": "markdown",
   "metadata": {},
   "source": [
    "#LS model\n",
    "def lsmodel(inc, emi, pha, exp1, exp2, exp3):\n",
    "    f = math.exp(exp1*pha + exp2*pha**2+exp3*pha**3) * math.cos(inc*math.pi/180)/(math.cos(inc*math.pi/180)+math.cos(emi*math.pi/180))\n",
    "    return f\n"
   ]
  },
  {
   "cell_type": "markdown",
   "metadata": {},
   "source": [
    "#simulated image vs image\n",
    "import numpy as np\n",
    "for path in out_paths:\n",
    "    image = CubeFile.open(path)\n",
    "    data = image.get_image_array()\n",
    "    #Save to png: \n",
    "    png1=path+'1.png'\n",
    "    png2=path+'2.png'\n",
    "    print(png1)\n",
    "    img = Image.fromarray(data[0])\n",
    "    img.save(png1)\n",
    "    #inc,emi,pha \n",
    "    inc = data[3]\n",
    "    emi = data[2]\n",
    "    pha = data[1]\n",
    "    ran = inc.shape\n",
    "    sim = np.zeros((ran[0],ran[1]),dtype='float')\n",
    "    for i in range(ran[0]):\n",
    "        for j in range(ran[1]):\n",
    "            #sim[i,j] = lsmodel(inc[i,j],emi[i,j], pha[i,j],-0.0327,0.00022842,-0.0000014225)\n",
    "            sim[i,j] = math.cos(inc[i,j]*math.pi/180)\n",
    "    img2=Image.fromarray(sim)\n",
    "    imgplot = plt.imshow(sim)"
   ]
  },
  {
   "cell_type": "markdown",
   "metadata": {},
   "source": [
    "#fx\n",
    "for path in paths:\n",
    "    # Read in the image and create the image data\n",
    "    image = CubeFile.open(path)\n",
    "    data = image.get_image_array()\n",
    "    #Save to png: Image.fromarray(data[0]).save('*.png')\n",
    "    #fx(f1=\"${cube}+2\" f2=\"${cube}+5\" f3=\"${cube}+6\" to=\"${base}.LS.cub\" equation='pi*0.0264*cos(f3*pi/180)/(cos(f3*pi/180)+cos(f2*pi/180)) * e^(-0.0327*f1 + 0.00022842*f1^2 + -0.0000014225*f1^3)')\n",
    "    pysis.fx\n",
    "    #editlab from=\"${base}.LS.cub\" options=setkey keyword=ControlSN value=ImgSimLS grpname=Instrument\n",
    "    pysis.editlab\n",
    "    pysis.lowpass\n"
   ]
  },
  {
   "cell_type": "code",
   "execution_count": null,
   "metadata": {},
   "outputs": [],
   "source": []
  }
 ],
 "metadata": {
  "kernelspec": {
   "display_name": "Python 3",
   "language": "python",
   "name": "python3"
  },
  "language_info": {
   "codemirror_mode": {
    "name": "ipython",
    "version": 3
   },
   "file_extension": ".py",
   "mimetype": "text/x-python",
   "name": "python",
   "nbconvert_exporter": "python",
   "pygments_lexer": "ipython3",
   "version": "3.7.6"
  }
 },
 "nbformat": 4,
 "nbformat_minor": 4
}
