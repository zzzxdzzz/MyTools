{
 "cells": [
  {
   "cell_type": "code",
   "execution_count": null,
   "id": "6c10e494-bfca-4709-a09a-0aec2f240253",
   "metadata": {},
   "outputs": [],
   "source": [
    "import pigpio, time, random\n",
    "\n",
    "# 舵机脉宽常见范围：500–2500us（实际需校准）\n",
    "SERVO_Z = 18  # 下压/抬起\n",
    "SERVO_Y = 19  # 上滑/回位\n",
    "\n",
    "pi = pigpio.pi()\n",
    "pi.set_mode(SERVO_Z, pigpio.OUTPUT)\n",
    "pi.set_mode(SERVO_Y, pigpio.OUTPUT)\n",
    "\n",
    "Z_UP, Z_DOWN = 1200, 1650        # 校准后填\n",
    "Y_START, Y_END = 1100, 1700      # 一次滑动的两个端点\n",
    "\n",
    "def tap(ms=120):\n",
    "    pi.set_servo_pulsewidth(SERVO_Z, Z_DOWN); time.sleep(ms/1000)\n",
    "    pi.set_servo_pulsewidth(SERVO_Z, Z_UP);   time.sleep(0.1)\n",
    "\n",
    "def swipe_up(duration=0.35):\n",
    "    # 下压→Y 由 START 匀速到 END→抬起\n",
    "    pi.set_servo_pulsewidth(SERVO_Z, Z_DOWN)\n",
    "    steps = 18\n",
    "    for i in range(steps+1):\n",
    "        pw = int(Y_START + (Y_END - Y_START) * i/steps)\n",
    "        pi.set_servo_pulsewidth(SERVO_Y, pw)\n",
    "        time.sleep(duration/steps)\n",
    "    pi.set_servo_pulsewidth(SERVO_Z, Z_UP)\n",
    "    # 回到起点\n",
    "    pi.set_servo_pulsewidth(SERVO_Y, Y_START)\n",
    "    time.sleep(0.1)\n",
    "\n",
    "try:\n",
    "    while True:\n",
    "        swipe_up(duration=random.uniform(0.28,0.45))\n",
    "        time.sleep(random.uniform(1.8, 3.6))\n",
    "        if random.random() < 0.22:\n",
    "            tap(140)\n",
    "            time.sleep(0.6)\n",
    "finally:\n",
    "    pi.set_servo_pulsewidth(SERVO_Z, 0)\n",
    "    pi.set_servo_pulsewidth(SERVO_Y, 0)\n",
    "    pi.stop()\n"
   ]
  }
 ],
 "metadata": {
  "kernelspec": {
   "display_name": "Python 3 (ipykernel)",
   "language": "python",
   "name": "python3"
  },
  "language_info": {
   "codemirror_mode": {
    "name": "ipython",
    "version": 3
   },
   "file_extension": ".py",
   "mimetype": "text/x-python",
   "name": "python",
   "nbconvert_exporter": "python",
   "pygments_lexer": "ipython3",
   "version": "3.12.2"
  }
 },
 "nbformat": 4,
 "nbformat_minor": 5
}
